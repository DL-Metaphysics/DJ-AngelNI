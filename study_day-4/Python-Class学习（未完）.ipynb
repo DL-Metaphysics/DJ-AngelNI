{
 "cells": [
  {
   "cell_type": "markdown",
   "metadata": {},
   "source": [
    "# python class"
   ]
  },
  {
   "cell_type": "markdown",
   "metadata": {},
   "source": [
    "## 面向对象编程"
   ]
  },
  {
   "cell_type": "markdown",
   "metadata": {},
   "source": [
    "类就是一个新的、程序员自己根据需求定义的一个新的类型，而对象是这个类型的一个实例。比如说，定义了一个新的类型Person，然后用这个类型定义了一个变量tom，这里，tom就是一个对象，而Person就是一个类。"
   ]
  },
  {
   "cell_type": "markdown",
   "metadata": {},
   "source": [
    "## 封装"
   ]
  },
  {
   "cell_type": "markdown",
   "metadata": {},
   "source": [
    "面向对象的程序设计中，某个类把所需要的数据（也可以说是类的属性）和对数据的操作（也可以说成是类的行为）全部封装在类中，分别称为类的成员变量和方法（或成员函数）。这种把成员变量和成员函数封装在一起的特性称之为封装》"
   ]
  },
  {
   "cell_type": "markdown",
   "metadata": {},
   "source": [
    "## 类的属性"
   ]
  },
  {
   "cell_type": "markdown",
   "metadata": {},
   "source": [
    "类由属性和和方法组成，类的属性是对数据的封装，而类的方法是对类的行为的封装。\n",
    "\n",
    "类的属性按使用范围分为共有属性和私有属性。具体的，在python实现面型对象的编程思想的时候，封装在类中的属性可以分为两种：数据类的属性和数据对象的属性（也可以成为数据了类的成员变量和属于对象的成员变量），其中，这两种成员变量有各自分为共有成员变量和私有成员变量。"
   ]
  },
  {
   "cell_type": "markdown",
   "metadata": {},
   "source": [
    "### 公有成员变量和私有成员变量"
   ]
  },
  {
   "cell_type": "markdown",
   "metadata": {},
   "source": [
    "pyhton 中 以两个_开头的变量都是私有成员变量，而其余的变量都属于公有成员变量\n",
    "\n",
    "私有成员变量只能在类的内部访问，而公有成员变量可以在类外部访问"
   ]
  },
  {
   "cell_type": "markdown",
   "metadata": {},
   "source": [
    "类的内置属性\n",
    "\n",
    "    __dict__:类的属性\n",
    "    __doc__:类的文档字符串\n",
    "    __name__:类名\n",
    "    __module__:类定义所在模块\n",
    "    "
   ]
  },
  {
   "cell_type": "markdown",
   "metadata": {},
   "source": [
    "def _ _init_ _()  初始化函数也叫构造函数，再用类创建实例时，首先执行初始化函数\n",
    "\n",
    "_ _del_ _  析构函数，由于释放对象占用的资源"
   ]
  },
  {
   "cell_type": "markdown",
   "metadata": {},
   "source": [
    "## 创建类"
   ]
  },
  {
   "cell_type": "code",
   "execution_count": 32,
   "metadata": {
    "ExecuteTime": {
     "end_time": "2019-07-21T08:48:00.768903Z",
     "start_time": "2019-07-21T08:48:00.764885Z"
    }
   },
   "outputs": [],
   "source": [
    "class Person :\n",
    "    \n",
    "    def __init__(self,name,age):\n",
    "        self.name  = name\n",
    "        self.age = age\n",
    "    def get_name(self):\n",
    "        return self.name\n",
    "    def get_age(self):\n",
    "        return self.age\n",
    "    def color(self,color):\n",
    "        d={}\n",
    "        d[self.name] = color\n",
    "        return d\n",
    "    "
   ]
  },
  {
   "cell_type": "markdown",
   "metadata": {},
   "source": [
    "self是默认参数，不需要传值，其他则需要"
   ]
  },
  {
   "cell_type": "code",
   "execution_count": 45,
   "metadata": {
    "ExecuteTime": {
     "end_time": "2019-07-21T08:49:47.963154Z",
     "start_time": "2019-07-21T08:49:47.960162Z"
    }
   },
   "outputs": [],
   "source": [
    "p = Person(\"hong\",19)"
   ]
  },
  {
   "cell_type": "code",
   "execution_count": 46,
   "metadata": {
    "ExecuteTime": {
     "end_time": "2019-07-21T08:49:48.284397Z",
     "start_time": "2019-07-21T08:49:48.280418Z"
    }
   },
   "outputs": [
    {
     "name": "stdout",
     "output_type": "stream",
     "text": [
      "{'hong': 'red'}\n"
     ]
    }
   ],
   "source": [
    "a=p.color(\"red\")\n",
    "print(a)"
   ]
  },
  {
   "cell_type": "markdown",
   "metadata": {},
   "source": [
    " 实例"
   ]
  },
  {
   "cell_type": "code",
   "execution_count": 47,
   "metadata": {
    "ExecuteTime": {
     "end_time": "2019-07-21T08:49:50.480938Z",
     "start_time": "2019-07-21T08:49:50.475951Z"
    }
   },
   "outputs": [
    {
     "name": "stdout",
     "output_type": "stream",
     "text": [
      "xiaoming\n",
      "xiaoming\n",
      "20\n",
      "{'xiaoming': 'white'}\n"
     ]
    }
   ],
   "source": [
    "if __name__ == \"__main__\":\n",
    "    boy = Person(\"xiaoming\",20)\n",
    "    print(boy.name)\n",
    "    name = boy.get_name()\n",
    "    print(name)\n",
    "    age = boy.get_age()\n",
    "    print(age)\n",
    "    his_color = boy.color(\"white\")\n",
    "    print(his_color)"
   ]
  },
  {
   "cell_type": "code",
   "execution_count": 61,
   "metadata": {
    "ExecuteTime": {
     "end_time": "2019-07-21T09:31:10.805220Z",
     "start_time": "2019-07-21T09:31:10.800234Z"
    }
   },
   "outputs": [],
   "source": [
    "class student:\n",
    "    classroom ='101'\n",
    "    address = 'beijing'\n",
    "    def __init__(self,name,age):\n",
    "        self.name = name\n",
    "        self.age = age\n",
    "    def print_age(self):\n",
    "        print('%s: %s'% (self.name,self.age))\n",
    "    def get_color(self,color):\n",
    "        return color"
   ]
  },
  {
   "cell_type": "code",
   "execution_count": 62,
   "metadata": {
    "ExecuteTime": {
     "end_time": "2019-07-21T09:31:11.194552Z",
     "start_time": "2019-07-21T09:31:11.189553Z"
    }
   },
   "outputs": [
    {
     "name": "stdout",
     "output_type": "stream",
     "text": [
      "101\n",
      "write\n"
     ]
    }
   ],
   "source": [
    "li = student(\"ninghui\",20)\n",
    "a=li.classroom\n",
    "b=li.get_color(\"write\")\n",
    "print(a)\n",
    "print(b)"
   ]
  },
  {
   "cell_type": "code",
   "execution_count": 65,
   "metadata": {
    "ExecuteTime": {
     "end_time": "2019-07-21T09:46:11.728649Z",
     "start_time": "2019-07-21T09:46:11.722666Z"
    }
   },
   "outputs": [
    {
     "name": "stdout",
     "output_type": "stream",
     "text": [
      "abc 说 我 10 岁\n"
     ]
    }
   ],
   "source": [
    "class people:\n",
    "    name = ''\n",
    "    age =0\n",
    "    __weight__=0\n",
    "    def __init__(self,n,a,w):\n",
    "        self.name = n\n",
    "        self.age = a\n",
    "        self.__weight = w\n",
    "    def speak(self):\n",
    "        print(\"%s 说 我 %d 岁\"%(self.name,self.age))\n",
    "p = people('abc',10,30)\n",
    "p.speak()\n",
    "        \n"
   ]
  },
  {
   "cell_type": "markdown",
   "metadata": {},
   "source": [
    "## 继承"
   ]
  },
  {
   "cell_type": "code",
   "execution_count": 72,
   "metadata": {
    "ExecuteTime": {
     "end_time": "2019-07-21T09:49:53.942692Z",
     "start_time": "2019-07-21T09:49:53.934716Z"
    }
   },
   "outputs": [
    {
     "name": "stdout",
     "output_type": "stream",
     "text": [
      "ken 说我 10岁，我在读 3 年级\n"
     ]
    }
   ],
   "source": [
    "class people:\n",
    "    name = ''\n",
    "    age =0\n",
    "    __weight=0\n",
    "    def __init__(self,n,a,w):\n",
    "        self.name = n\n",
    "        self.age = a\n",
    "        self.__weight = w\n",
    "    def speak(self):\n",
    "        print(\"%s 说 我 %d 岁\"%(self.name,self.age))\n",
    "class student(people):\n",
    "    grade = ''\n",
    "    def __init__(self,n,a,w,g):\n",
    "        people.__init__(self,n,a,w)\n",
    "        self.grade = g\n",
    "    def speak(self):\n",
    "        print(\"%s 说我 %d岁，我在读 %d 年级\"%(self.name,self.age,self.grade))\n",
    "        \n",
    "s = student('ken',10,60,3)\n",
    "s.speak()"
   ]
  },
  {
   "cell_type": "markdown",
   "metadata": {},
   "source": [
    "## 类的专有方法"
   ]
  },
  {
   "cell_type": "markdown",
   "metadata": {},
   "source": [
    "__ init __ : 构造函数，在生成对象时调用\n",
    "\n",
    "__ del __ : 析构函数，释放对象时使用\n",
    "\n",
    "__ repr __ : 打印，转换\n",
    "\n",
    "__ setitem __ : 按照索引赋值\n",
    "\n",
    "__ getitem __: 按照索引获取值\n",
    "\n",
    "__ len __: 获得长度\n",
    "\n",
    "__ cmp __: 比较运算\n",
    "\n",
    "__ call __: 函数调用\n",
    "\n",
    "__ add __: 加运算\n",
    "\n",
    "__ sub __: 减运算\n",
    "\n",
    "__ mul __: 乘运算\n",
    "\n",
    "__ truediv __: 除运算\n",
    "\n",
    "__ mod __: 求余运算\n",
    "\n",
    "__ pow __: 乘方"
   ]
  },
  {
   "cell_type": "code",
   "execution_count": null,
   "metadata": {},
   "outputs": [],
   "source": []
  }
 ],
 "metadata": {
  "kernelspec": {
   "display_name": "Python 3",
   "language": "python",
   "name": "python3"
  },
  "language_info": {
   "codemirror_mode": {
    "name": "ipython",
    "version": 3
   },
   "file_extension": ".py",
   "mimetype": "text/x-python",
   "name": "python",
   "nbconvert_exporter": "python",
   "pygments_lexer": "ipython3",
   "version": "3.7.1"
  },
  "toc": {
   "base_numbering": 1,
   "nav_menu": {},
   "number_sections": true,
   "sideBar": true,
   "skip_h1_title": false,
   "title_cell": "Table of Contents",
   "title_sidebar": "Contents",
   "toc_cell": false,
   "toc_position": {},
   "toc_section_display": true,
   "toc_window_display": false
  },
  "varInspector": {
   "cols": {
    "lenName": 16,
    "lenType": 16,
    "lenVar": 40
   },
   "kernels_config": {
    "python": {
     "delete_cmd_postfix": "",
     "delete_cmd_prefix": "del ",
     "library": "var_list.py",
     "varRefreshCmd": "print(var_dic_list())"
    },
    "r": {
     "delete_cmd_postfix": ") ",
     "delete_cmd_prefix": "rm(",
     "library": "var_list.r",
     "varRefreshCmd": "cat(var_dic_list()) "
    }
   },
   "types_to_exclude": [
    "module",
    "function",
    "builtin_function_or_method",
    "instance",
    "_Feature"
   ],
   "window_display": false
  }
 },
 "nbformat": 4,
 "nbformat_minor": 2
}
