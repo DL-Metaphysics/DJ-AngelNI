{
 "cells": [
  {
   "cell_type": "code",
   "execution_count": null,
   "metadata": {
    "ExecuteTime": {
     "start_time": "2019-07-22T01:31:27.434Z"
    }
   },
   "outputs": [],
   "source": [
    "import numpy as np\n",
    "import matplotlib.pyplot as plt\n",
    "%matplotlib inline\n",
    "#激活函数\n",
    "def sigmoid(x):\n",
    "     return 1 / (1 + np.exp(-x))\n",
    "def d_sigmoid(x):\n",
    "    return x * (1 - x)\n",
    "def tanh(x):\n",
    "    return np.tanh(x)\n",
    "def d_tanh(x):\n",
    "    return 1.0 - np.tanh(x) * np.tanh(x)\n",
    "\n",
    "##参数设置\n",
    "alph = 0.5\n",
    "step = 10000\n",
    "###\n",
    "#前向传播\n",
    "def qianxiangchuanbo(init,weight,b):\n",
    "    neth=[]\n",
    "    outh=[]\n",
    "    neto=[]\n",
    "    outo=[]\n",
    "    neth.append(weight[0]*init[0]+weight[1]*init[1]+b[0])\n",
    "    neth.append(weight[2]*init[0]+weight[3]*init[1]+b[0])\n",
    "    outh.append(sigmoid(neth[0]))\n",
    "    outh.append(sigmoid(neth[1]))\n",
    "    neto.append(weight[4]*outh[0]+weight[5]*outh[1]+b[1])\n",
    "    neto.append(weight[6]*outh[0]+weight[7]*outh[1]+b[1])\n",
    "    outo.append(sigmoid(neto[0]))\n",
    "    outo.append(sigmoid(neto[1]))\n",
    "    return neth,outh,neto,outo\n",
    "def fanxiangchuanbo(out,outo,outh):\n",
    "    #权值更新\n",
    "    new_weight=[]\n",
    "    q=[]\n",
    "    #输如层——>隐藏层\n",
    "    a1=(-(init[0]-outo[0])*outo[0]*(1-outo[0]))\n",
    "    a2=(-(init[1]-outo[1])*outo[1]*(1-outo[1]))\n",
    "    q.append(a1)\n",
    "    q.append(a2)\n",
    "    w1 = q[0]*weight[4]+q[1]*weight[6]*outh[0]*(1-outh[0])*init[0]\n",
    "    w2 = q[0]*weight[4]+q[1]*weight[6]*outh[0]*(1-outh[0])*init[1]\n",
    "    w3 = q[0]*weight[5]+q[1]*weight[7]*outh[1]*(1-outh[1])*init[0]\n",
    "    w4 = q[0]*weight[5]+q[1]*weight[7]*outh[1]*(1-outh[1])*init[1]\n",
    "    new_weight.append(w1)\n",
    "    new_weight.append(w2)\n",
    "    new_weight.append(w3)\n",
    "    new_weight.append(w4)\n",
    "    #输出层——>隐藏层\n",
    "    w5 = -(out[0]-outo[0])*outo[0]*(1-outo[0])*outh[0]\n",
    "    w6 = -(out[0]-outo[0])*outo[0]*(1-outo[0])*outh[1]\n",
    "    w7 = -(out[1]-outo[1])*outo[1]*(1-outo[1])*outh[0]\n",
    "    w8 = -(out[1]-outo[1])*outo[1]*(1-outo[1])*outh[1]\n",
    "    new_weight.append(w5)\n",
    "    new_weight.append(w6)\n",
    "    new_weight.append(w7)\n",
    "    new_weight.append(w8)\n",
    "    return new_weight\n",
    "init = [0.05,0.10]\n",
    "out = [0.01,0.99]\n",
    "weight = [0.15,0.20,0.25,0.30,0.40,0.45,0.50,0.55]\n",
    "b=[0.35,0.60]\n",
    "weight_new=[]\n",
    "count=0\n",
    "result = []\n",
    "while True:\n",
    "    count=count+1\n",
    "    \n",
    "    neth,outh,neto,outo = qianxiangchuanbo(init,weight,b)\n",
    "    e=(abs(out[0]-outo[0])+abs(out[1]-outo[1]))\n",
    "    result.append(e)\n",
    "    gd_weight = fanxiangchuanbo(out,outo,outh)\n",
    "    for i in range(len(weight)):\n",
    "        weight[i]=weight[i]-alph*gd_weight[i]\n",
    "\n",
    "    if e<0.01:\n",
    "        break\n",
    "    \n",
    "    #if count>200:\n",
    "        #break\n",
    "plt.scatter(count,result)\n",
    "plt.show()\n",
    "\n"
   ]
  },
  {
   "cell_type": "code",
   "execution_count": null,
   "metadata": {},
   "outputs": [],
   "source": []
  }
 ],
 "metadata": {
  "kernelspec": {
   "display_name": "Python 3",
   "language": "python",
   "name": "python3"
  },
  "language_info": {
   "codemirror_mode": {
    "name": "ipython",
    "version": 3
   },
   "file_extension": ".py",
   "mimetype": "text/x-python",
   "name": "python",
   "nbconvert_exporter": "python",
   "pygments_lexer": "ipython3",
   "version": "3.7.1"
  },
  "toc": {
   "base_numbering": 1,
   "nav_menu": {},
   "number_sections": true,
   "sideBar": true,
   "skip_h1_title": false,
   "title_cell": "Table of Contents",
   "title_sidebar": "Contents",
   "toc_cell": false,
   "toc_position": {},
   "toc_section_display": true,
   "toc_window_display": false
  },
  "varInspector": {
   "cols": {
    "lenName": 16,
    "lenType": 16,
    "lenVar": 40
   },
   "kernels_config": {
    "python": {
     "delete_cmd_postfix": "",
     "delete_cmd_prefix": "del ",
     "library": "var_list.py",
     "varRefreshCmd": "print(var_dic_list())"
    },
    "r": {
     "delete_cmd_postfix": ") ",
     "delete_cmd_prefix": "rm(",
     "library": "var_list.r",
     "varRefreshCmd": "cat(var_dic_list()) "
    }
   },
   "types_to_exclude": [
    "module",
    "function",
    "builtin_function_or_method",
    "instance",
    "_Feature"
   ],
   "window_display": false
  }
 },
 "nbformat": 4,
 "nbformat_minor": 2
}
