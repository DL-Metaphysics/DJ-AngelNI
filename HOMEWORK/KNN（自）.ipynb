{
 "cells": [
  {
   "cell_type": "code",
   "execution_count": 151,
   "metadata": {
    "ExecuteTime": {
     "end_time": "2019-07-22T03:32:16.093119Z",
     "start_time": "2019-07-22T03:32:16.078161Z"
    }
   },
   "outputs": [],
   "source": [
    "#导包\n",
    "import numpy as np\n",
    "from matplotlib import pyplot as plt\n",
    "import operator\n",
    "%matplotlib inline"
   ]
  },
  {
   "cell_type": "code",
   "execution_count": 145,
   "metadata": {
    "ExecuteTime": {
     "end_time": "2019-07-22T03:30:23.719741Z",
     "start_time": "2019-07-22T03:30:23.707684Z"
    }
   },
   "outputs": [
    {
     "name": "stdout",
     "output_type": "stream",
     "text": [
      "a\n",
      "[[0.8 1.8]\n",
      " [0.9 2.1]\n",
      " [1.  1.5]\n",
      " [1.2 1.9]\n",
      " [1.3 2. ]\n",
      " [2.5 1.7]\n",
      " [2.8 1.5]\n",
      " [2.5 1.4]\n",
      " [2.7 1.9]\n",
      " [2.6 1.8]\n",
      " [1.9 3.3]\n",
      " [2.  2.9]\n",
      " [2.2 2.8]\n",
      " [2.1 2.9]\n",
      " [1.8 3. ]]\n"
     ]
    }
   ],
   "source": [
    "#自我创建数据集\n",
    "data=[\n",
    "    [0.8,1.8],\n",
    "    [0.9,2.1],\n",
    "    [1.0,1.5],\n",
    "    [1.2,1.9],\n",
    "    [1.3,2.0],##\n",
    "    [2.5,1.7],\n",
    "    [2.8,1.5],\n",
    "    [2.5,1.4],\n",
    "    [2.7,1.9],\n",
    "    [2.6,1.8],###\n",
    "    [1.9,3.3],\n",
    "    [2.0,2.9],\n",
    "    [2.2,2.8],\n",
    "    [2.1,2.9],\n",
    "    [1.8,3.0],\n",
    "]\n",
    "label=['a','a','a','a','a','b','b','b','b','b','c','c','c','c','c']\n",
    "print(label)\n",
    "train_data = np.array(data)\n",
    "print(train_data)\n",
    "label=[]"
   ]
  },
  {
   "cell_type": "code",
   "execution_count": 137,
   "metadata": {
    "ExecuteTime": {
     "end_time": "2019-07-22T03:27:49.468606Z",
     "start_time": "2019-07-22T03:27:48.939520Z"
    }
   },
   "outputs": [
    {
     "name": "stdout",
     "output_type": "stream",
     "text": [
      "[0.8, 0.9, 1.0, 1.2, 1.3] \n",
      " [1.8, 2.1, 1.5, 1.9, 2.0]\n",
      "[2.5, 2.8, 2.5, 2.7, 2.6] \n",
      "  [1.7, 1.5, 1.4, 1.9, 1.8]\n",
      "[1.9, 2.0, 2.2, 2.1, 1.8]\n",
      " [3.3, 2.9, 2.8, 2.9, 3.0] \n"
     ]
    },
    {
     "data": {
      "image/png": "[encoded data removed]",
      "text/plain": [
       "<Figure size 432x288 with 1 Axes>"
      ]
     },
     "metadata": {
      "needs_background": "light"
     },
     "output_type": "display_data"
    },
    {
     "data": {
      "image/png": "[encoded data removed]",
      "text/plain": [
       "<Figure size 720x720 with 1 Axes>"
      ]
     },
     "metadata": {
      "needs_background": "light"
     },
     "output_type": "display_data"
    }
   ],
   "source": [
    "x_1=[]\n",
    "y_1=[]\n",
    "x_2=[]\n",
    "y_2=[]\n",
    "x_3=[]\n",
    "y_3=[]\n",
    "\n",
    "for i in range(5):\n",
    "        x_1.append(data[i][0])\n",
    "        y_1.append(data[i][1])\n",
    "        x_2.append(data[i+5][0])\n",
    "        y_2.append(data[i+5][1])\n",
    "        x_3.append(data[i+10][0])\n",
    "        y_3.append(data[i+10][1])\n",
    "x = []\n",
    "y = []\n",
    "for j in range(15):\n",
    "    x.append(data[j][0])\n",
    "    y.append(data[j][1])\n",
    "plt.scatter(x,y)\n",
    "print(f'{x_1} \\n {y_1}\\n{x_2} \\n  {y_2}\\n{x_3}\\n {y_3} ')\n",
    "f,ax=plt.subplots(1,1,figsize=(10,10))\n",
    "for i in range (5):\n",
    "        ax.scatter(x_1[i],y_1[i],label='skitcat',color='r',marker='o')\n",
    "        ax.scatter(x_2[i],y_2[i],label='skitcat',color='b',marker='o')\n",
    "        ax.scatter(x_3[i],y_3[i],label='skitcat',color='g',marker='o')\n",
    "# 自定义点，从图中可以看出，很明显属于第三类\n",
    "test = [[1.5,2.85]]\n",
    "x_test=1.5\n",
    "y_test=2.85\n",
    "ax.scatter(test[0][0],test[0][1],label='skitcat',color='m',marker = 'x')\n",
    "test = np.array(test)"
   ]
  },
  {
   "cell_type": "code",
   "execution_count": 138,
   "metadata": {
    "ExecuteTime": {
     "end_time": "2019-07-22T03:27:49.503512Z",
     "start_time": "2019-07-22T03:27:49.497528Z"
    }
   },
   "outputs": [],
   "source": [
    "#定义距离公式\n",
    "def d_euc(x, y):#欧式距离\n",
    "    d = np.sqrt(np.sum(np.square(x- y)))\n",
    "    return d"
   ]
  },
  {
   "cell_type": "code",
   "execution_count": 181,
   "metadata": {
    "ExecuteTime": {
     "end_time": "2019-07-22T03:39:22.254165Z",
     "start_time": "2019-07-22T03:39:22.247185Z"
    }
   },
   "outputs": [],
   "source": [
    "def KNN(train_data,test,label,k):\n",
    "    distance=[]\n",
    "    for i in train_data:\n",
    "        distance.append(d_euc(i,train_data))\n",
    "    distance = np.array(distance)\n",
    "    index = distance.argsort()  # 获取按距离大小排序后的索引\n",
    "    #print(index)\n",
    "    sort_dis = np.sort(distance)\n",
    "    \n",
    "    \n",
    "    count={}\n",
    "    o=0\n",
    "    print(label)\n",
    "    for i in index:\n",
    "        o=o+1\n",
    "        label_vote=label[i]\n",
    "        count[label_vote] = count.get(label_vote,0)+1   ##返回特定的键值，否则返回 0\n",
    "        if o>k:\n",
    "            break\n",
    "        print(label_vote)\n",
    "    print(count)\n",
    "    final_outcome=majory_vote(count)\n",
    "    return final_outcome\n",
    "    "
   ]
  },
  {
   "cell_type": "code",
   "execution_count": 182,
   "metadata": {
    "ExecuteTime": {
     "end_time": "2019-07-22T03:39:22.725796Z",
     "start_time": "2019-07-22T03:39:22.720807Z"
    }
   },
   "outputs": [],
   "source": [
    "##定义决策方案——多数表决法\n",
    "def majory_vote(count):\n",
    "    sorted_class_count = sorted(\n",
    "        count.items(), key=operator.itemgetter(1), reverse=True)\n",
    "    return sorted_class_count"
   ]
  },
  {
   "cell_type": "code",
   "execution_count": 186,
   "metadata": {
    "ExecuteTime": {
     "end_time": "2019-07-22T03:42:09.808029Z",
     "start_time": "2019-07-22T03:42:09.798056Z"
    }
   },
   "outputs": [
    {
     "name": "stdout",
     "output_type": "stream",
     "text": [
      "['a', 'a', 'a', 'a', 'a', 'b', 'b', 'b', 'b', 'b', 'c', 'c', 'c', 'c', 'c']\n",
      "a\n",
      "c\n",
      "a\n",
      "c\n",
      "c\n",
      "b\n",
      "b\n",
      "c\n",
      "{'a': 2, 'c': 4, 'b': 3}\n"
     ]
    },
    {
     "data": {
      "text/plain": [
       "[('c', 4), ('b', 3), ('a', 2)]"
      ]
     },
     "execution_count": 186,
     "metadata": {},
     "output_type": "execute_result"
    }
   ],
   "source": [
    "label=['a','a','a','a','a','b','b','b','b','b','c','c','c','c','c']\n",
    "test=[3.0,2.0]\n",
    "test = np.array(test)\n",
    "final_label = KNN(train_data,test,label, 8)\n",
    "final_label"
   ]
  },
  {
   "cell_type": "code",
   "execution_count": null,
   "metadata": {
    "ExecuteTime": {
     "end_time": "2019-07-22T03:42:25.297780Z",
     "start_time": "2019-07-22T03:42:25.291794Z"
    }
   },
   "outputs": [],
   "source": []
  },
  {
   "cell_type": "code",
   "execution_count": null,
   "metadata": {},
   "outputs": [],
   "source": []
  }
 ],
 "metadata": {
  "kernelspec": {
   "display_name": "Python 3",
   "language": "python",
   "name": "python3"
  },
  "language_info": {
   "codemirror_mode": {
    "name": "ipython",
    "version": 3
   },
   "file_extension": ".py",
   "mimetype": "text/x-python",
   "name": "python",
   "nbconvert_exporter": "python",
   "pygments_lexer": "ipython3",
   "version": "3.7.1"
  },
  "toc": {
   "base_numbering": 1,
   "nav_menu": {},
   "number_sections": true,
   "sideBar": true,
   "skip_h1_title": false,
   "title_cell": "Table of Contents",
   "title_sidebar": "Contents",
   "toc_cell": false,
   "toc_position": {},
   "toc_section_display": true,
   "toc_window_display": false
  },
  "varInspector": {
   "cols": {
    "lenName": 16,
    "lenType": 16,
    "lenVar": 40
   },
   "kernels_config": {
    "python": {
     "delete_cmd_postfix": "",
     "delete_cmd_prefix": "del ",
     "library": "var_list.py",
     "varRefreshCmd": "print(var_dic_list())"
    },
    "r": {
     "delete_cmd_postfix": ") ",
     "delete_cmd_prefix": "rm(",
     "library": "var_list.r",
     "varRefreshCmd": "cat(var_dic_list()) "
    }
   },
   "types_to_exclude": [
    "module",
    "function",
    "builtin_function_or_method",
    "instance",
    "_Feature"
   ],
   "window_display": false
  }
 },
 "nbformat": 4,
 "nbformat_minor": 2
}
