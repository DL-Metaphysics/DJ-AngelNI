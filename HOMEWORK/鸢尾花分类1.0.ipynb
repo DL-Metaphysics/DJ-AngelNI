{
 "cells": [
  {
   "cell_type": "markdown",
   "metadata": {},
   "source": [
    "# KNN--鸢尾花分类"
   ]
  },
  {
   "cell_type": "code",
   "execution_count": 23,
   "metadata": {
    "ExecuteTime": {
     "end_time": "2019-07-02T14:11:12.231058Z",
     "start_time": "2019-07-02T14:11:12.196153Z"
    }
   },
   "outputs": [],
   "source": [
    "'''\n",
    "导包\n",
    "'''\n",
    "import numpy as py\n",
    "import pandas as pd\n",
    "from matplotlib import pyplot as plt\n",
    "import csv\n",
    "import random\n",
    "import math\n",
    "import operator\n",
    "\n",
    "%matplotlib inline"
   ]
  },
  {
   "cell_type": "code",
   "execution_count": 24,
   "metadata": {
    "ExecuteTime": {
     "end_time": "2019-07-02T14:11:14.338017Z",
     "start_time": "2019-07-02T14:11:14.333030Z"
    }
   },
   "outputs": [],
   "source": [
    "#数据拆分  比例\n",
    "m = 0.7\n",
    "#设置K值\n",
    "k=3"
   ]
  },
  {
   "cell_type": "code",
   "execution_count": 25,
   "metadata": {
    "ExecuteTime": {
     "end_time": "2019-07-02T14:11:15.631201Z",
     "start_time": "2019-07-02T14:11:15.603284Z"
    }
   },
   "outputs": [
    {
     "name": "stdout",
     "output_type": "stream",
     "text": [
      "[[4.6, 3.4, 1.4, 0.3, 'Iris-setosa'], [5.4, 3.7, 1.5, 0.2, 'Iris-setosa'], [4.8, 3.4, 1.6, 0.2, 'Iris-setosa'], [4.8, 3.0, 1.4, 0.1, 'Iris-setosa'], [4.3, 3.0, 1.1, 0.1, 'Iris-setosa'], [5.4, 3.9, 1.3, 0.4, 'Iris-setosa'], [5.1, 3.8, 1.5, 0.3, 'Iris-setosa'], [4.6, 3.6, 1.0, 0.2, 'Iris-setosa'], [5.2, 3.5, 1.5, 0.2, 'Iris-setosa'], [4.8, 3.1, 1.6, 0.2, 'Iris-setosa'], [4.9, 3.1, 1.5, 0.1, 'Iris-setosa'], [5.0, 3.2, 1.2, 0.2, 'Iris-setosa'], [4.9, 3.1, 1.5, 0.1, 'Iris-setosa'], [4.5, 2.3, 1.3, 0.3, 'Iris-setosa'], [5.1, 3.8, 1.6, 0.2, 'Iris-setosa'], [4.6, 3.2, 1.4, 0.2, 'Iris-setosa'], [5.3, 3.7, 1.5, 0.2, 'Iris-setosa'], [5.5, 2.3, 4.0, 1.3, 'Iris-versicolor'], [5.2, 2.7, 3.9, 1.4, 'Iris-versicolor'], [5.9, 3.0, 4.2, 1.5, 'Iris-versicolor'], [6.1, 2.9, 4.7, 1.4, 'Iris-versicolor'], [6.2, 2.2, 4.5, 1.5, 'Iris-versicolor'], [5.9, 3.2, 4.8, 1.8, 'Iris-versicolor'], [6.3, 2.5, 4.9, 1.5, 'Iris-versicolor'], [6.1, 2.8, 4.7, 1.2, 'Iris-versicolor'], [6.8, 2.8, 4.8, 1.4, 'Iris-versicolor'], [5.5, 2.4, 3.7, 1.0, 'Iris-versicolor'], [5.4, 3.0, 4.5, 1.5, 'Iris-versicolor'], [6.7, 3.1, 4.7, 1.5, 'Iris-versicolor'], [6.3, 2.3, 4.4, 1.3, 'Iris-versicolor'], [5.8, 2.6, 4.0, 1.2, 'Iris-versicolor'], [5.0, 2.3, 3.3, 1.0, 'Iris-versicolor'], [5.6, 2.7, 4.2, 1.3, 'Iris-versicolor'], [7.1, 3.0, 5.9, 2.1, 'Iris-virginica'], [6.7, 2.5, 5.8, 1.8, 'Iris-virginica'], [6.5, 3.2, 5.1, 2.0, 'Iris-virginica'], [6.4, 2.7, 5.3, 1.9, 'Iris-virginica'], [6.8, 3.0, 5.5, 2.1, 'Iris-virginica'], [5.8, 2.8, 5.1, 2.4, 'Iris-virginica'], [7.7, 3.8, 6.7, 2.2, 'Iris-virginica'], [7.7, 2.8, 6.7, 2.0, 'Iris-virginica'], [6.1, 2.6, 5.6, 1.4, 'Iris-virginica'], [7.7, 3.0, 6.1, 2.3, 'Iris-virginica'], [6.9, 3.1, 5.4, 2.1, 'Iris-virginica'], [6.7, 3.1, 5.6, 2.4, 'Iris-virginica'], [6.7, 3.3, 5.7, 2.5, 'Iris-virginica'], [6.3, 2.5, 5.0, 1.9, 'Iris-virginica'], [6.5, 3.0, 5.2, 2.0, 'Iris-virginica']]\n",
      "[[5.1, 3.5, 1.4, 0.2, 'Iris-setosa'], [4.9, 3.0, 1.4, 0.2, 'Iris-setosa'], [4.7, 3.2, 1.3, 0.2, 'Iris-setosa'], [4.6, 3.1, 1.5, 0.2, 'Iris-setosa'], [5.0, 3.6, 1.4, 0.2, 'Iris-setosa'], [5.4, 3.9, 1.7, 0.4, 'Iris-setosa'], [5.0, 3.4, 1.5, 0.2, 'Iris-setosa'], [4.4, 2.9, 1.4, 0.2, 'Iris-setosa'], [4.9, 3.1, 1.5, 0.1, 'Iris-setosa'], [5.8, 4.0, 1.2, 0.2, 'Iris-setosa'], [5.7, 4.4, 1.5, 0.4, 'Iris-setosa'], [5.1, 3.5, 1.4, 0.3, 'Iris-setosa'], [5.7, 3.8, 1.7, 0.3, 'Iris-setosa'], [5.4, 3.4, 1.7, 0.2, 'Iris-setosa'], [5.1, 3.7, 1.5, 0.4, 'Iris-setosa'], [5.1, 3.3, 1.7, 0.5, 'Iris-setosa'], [4.8, 3.4, 1.9, 0.2, 'Iris-setosa'], [5.0, 3.0, 1.6, 0.2, 'Iris-setosa'], [5.0, 3.4, 1.6, 0.4, 'Iris-setosa'], [5.2, 3.4, 1.4, 0.2, 'Iris-setosa'], [4.7, 3.2, 1.6, 0.2, 'Iris-setosa'], [5.4, 3.4, 1.5, 0.4, 'Iris-setosa'], [5.2, 4.1, 1.5, 0.1, 'Iris-setosa'], [5.5, 4.2, 1.4, 0.2, 'Iris-setosa'], [5.5, 3.5, 1.3, 0.2, 'Iris-setosa'], [4.4, 3.0, 1.3, 0.2, 'Iris-setosa'], [5.1, 3.4, 1.5, 0.2, 'Iris-setosa'], [5.0, 3.5, 1.3, 0.3, 'Iris-setosa'], [4.4, 3.2, 1.3, 0.2, 'Iris-setosa'], [5.0, 3.5, 1.6, 0.6, 'Iris-setosa'], [5.1, 3.8, 1.9, 0.4, 'Iris-setosa'], [4.8, 3.0, 1.4, 0.3, 'Iris-setosa'], [5.0, 3.3, 1.4, 0.2, 'Iris-setosa'], [7.0, 3.2, 4.7, 1.4, 'Iris-versicolor'], [6.4, 3.2, 4.5, 1.5, 'Iris-versicolor'], [6.9, 3.1, 4.9, 1.5, 'Iris-versicolor'], [6.5, 2.8, 4.6, 1.5, 'Iris-versicolor'], [5.7, 2.8, 4.5, 1.3, 'Iris-versicolor'], [6.3, 3.3, 4.7, 1.6, 'Iris-versicolor'], [4.9, 2.4, 3.3, 1.0, 'Iris-versicolor'], [6.6, 2.9, 4.6, 1.3, 'Iris-versicolor'], [5.0, 2.0, 3.5, 1.0, 'Iris-versicolor'], [6.0, 2.2, 4.0, 1.0, 'Iris-versicolor'], [5.6, 2.9, 3.6, 1.3, 'Iris-versicolor'], [6.7, 3.1, 4.4, 1.4, 'Iris-versicolor'], [5.6, 3.0, 4.5, 1.5, 'Iris-versicolor'], [5.8, 2.7, 4.1, 1.0, 'Iris-versicolor'], [5.6, 2.5, 3.9, 1.1, 'Iris-versicolor'], [6.1, 2.8, 4.0, 1.3, 'Iris-versicolor'], [6.4, 2.9, 4.3, 1.3, 'Iris-versicolor'], [6.6, 3.0, 4.4, 1.4, 'Iris-versicolor'], [6.7, 3.0, 5.0, 1.7, 'Iris-versicolor'], [6.0, 2.9, 4.5, 1.5, 'Iris-versicolor'], [5.7, 2.6, 3.5, 1.0, 'Iris-versicolor'], [5.5, 2.4, 3.8, 1.1, 'Iris-versicolor'], [5.8, 2.7, 3.9, 1.2, 'Iris-versicolor'], [6.0, 2.7, 5.1, 1.6, 'Iris-versicolor'], [6.0, 3.4, 4.5, 1.6, 'Iris-versicolor'], [5.6, 3.0, 4.1, 1.3, 'Iris-versicolor'], [5.5, 2.5, 4.0, 1.3, 'Iris-versicolor'], [5.5, 2.6, 4.4, 1.2, 'Iris-versicolor'], [6.1, 3.0, 4.6, 1.4, 'Iris-versicolor'], [5.7, 3.0, 4.2, 1.2, 'Iris-versicolor'], [5.7, 2.9, 4.2, 1.3, 'Iris-versicolor'], [6.2, 2.9, 4.3, 1.3, 'Iris-versicolor'], [5.1, 2.5, 3.0, 1.1, 'Iris-versicolor'], [5.7, 2.8, 4.1, 1.3, 'Iris-versicolor'], [6.3, 3.3, 6.0, 2.5, 'Iris-virginica'], [5.8, 2.7, 5.1, 1.9, 'Iris-virginica'], [6.3, 2.9, 5.6, 1.8, 'Iris-virginica'], [6.5, 3.0, 5.8, 2.2, 'Iris-virginica'], [7.6, 3.0, 6.6, 2.1, 'Iris-virginica'], [4.9, 2.5, 4.5, 1.7, 'Iris-virginica'], [7.3, 2.9, 6.3, 1.8, 'Iris-virginica'], [7.2, 3.6, 6.1, 2.5, 'Iris-virginica'], [5.7, 2.5, 5.0, 2.0, 'Iris-virginica'], [6.4, 3.2, 5.3, 2.3, 'Iris-virginica'], [6.5, 3.0, 5.5, 1.8, 'Iris-virginica'], [7.7, 2.6, 6.9, 2.3, 'Iris-virginica'], [6.0, 2.2, 5.0, 1.5, 'Iris-virginica'], [6.9, 3.2, 5.7, 2.3, 'Iris-virginica'], [5.6, 2.8, 4.9, 2.0, 'Iris-virginica'], [6.3, 2.7, 4.9, 1.8, 'Iris-virginica'], [6.7, 3.3, 5.7, 2.1, 'Iris-virginica'], [7.2, 3.2, 6.0, 1.8, 'Iris-virginica'], [6.2, 2.8, 4.8, 1.8, 'Iris-virginica'], [6.1, 3.0, 4.9, 1.8, 'Iris-virginica'], [6.4, 2.8, 5.6, 2.1, 'Iris-virginica'], [7.2, 3.0, 5.8, 1.6, 'Iris-virginica'], [7.4, 2.8, 6.1, 1.9, 'Iris-virginica'], [7.9, 3.8, 6.4, 2.0, 'Iris-virginica'], [6.4, 2.8, 5.6, 2.2, 'Iris-virginica'], [6.3, 2.8, 5.1, 1.5, 'Iris-virginica'], [6.3, 3.4, 5.6, 2.4, 'Iris-virginica'], [6.4, 3.1, 5.5, 1.8, 'Iris-virginica'], [6.0, 3.0, 4.8, 1.8, 'Iris-virginica'], [6.9, 3.1, 5.1, 2.3, 'Iris-virginica'], [5.8, 2.7, 5.1, 1.9, 'Iris-virginica'], [6.8, 3.2, 5.9, 2.3, 'Iris-virginica'], [6.7, 3.0, 5.2, 2.3, 'Iris-virginica'], [6.2, 3.4, 5.4, 2.3, 'Iris-virginica']]\n",
      "测试集长度：48 \n",
      "训练集长度：101 \n"
     ]
    }
   ],
   "source": [
    "'''\n",
    "数据处理\n",
    "'''\n",
    "#训练集\n",
    "train_data = []\n",
    "#测试集\n",
    "test_data = []\n",
    "with open('lris.txt', 'r') as cf:\n",
    "    lines = csv.reader(cf)\n",
    "    data = list(lines)\n",
    "    \n",
    "    for x in range(len(data) - 1):\n",
    "        for y in range(4):\n",
    "            data[x][y] = float(data[x][y])\n",
    "            \n",
    "        #将数据集按比例分开（7:3）\n",
    "        if random.random() < m:\n",
    "            train_data.append(data[x])\n",
    "        else:\n",
    "            test_data.append(data[x])\n",
    "#查看数据集\n",
    "print(test_data)\n",
    "print(train_data)\n",
    "#查看数据长度\n",
    "print(f'测试集长度：{len(test_data)} ')\n",
    "print(f'训练集长度：{len(train_data)} ')"
   ]
  },
  {
   "cell_type": "code",
   "execution_count": 26,
   "metadata": {
    "ExecuteTime": {
     "end_time": "2019-07-02T14:11:20.454681Z",
     "start_time": "2019-07-02T14:11:16.601830Z"
    }
   },
   "outputs": [
    {
     "data": {
      "image/png": "[encoded data removed]",
      "text/plain": [
       "<Figure size 720x720 with 4 Axes>"
      ]
     },
     "metadata": {
      "needs_background": "light"
     },
     "output_type": "display_data"
    }
   ],
   "source": [
    "'''\n",
    "画图\n",
    "'''\n",
    "f,ax=plt.subplots(4,1,figsize=(10,10))\n",
    "for i in range (len(test_data)):\n",
    "        ax[0].scatter(test_data[i][0],test_data[i][0],label='skitcat',color='r',marker='o')\n",
    "        ax[0].scatter(test_data[i][0],test_data[i][1],label='skitcat',color='g',marker='o')\n",
    "        ax[0].scatter(test_data[i][0],test_data[i][2],label='skitcat',color='b',marker='o')\n",
    "        ax[0].scatter(test_data[i][0],test_data[i][3],label='skitcat',color='m',marker='o')\n",
    "        ax[1].scatter(test_data[i][1],test_data[i][0],label='skitcat',color='r',marker='o')\n",
    "        ax[1].scatter(test_data[i][1],test_data[i][1],label='skitcat',color='g',marker='o')\n",
    "        ax[1].scatter(test_data[i][1],test_data[i][2],label='skitcat',color='b',marker='o')\n",
    "        ax[1].scatter(test_data[i][1],test_data[i][3],label='skitcat',color='m',marker='o')\n",
    "        ax[2].scatter(test_data[i][2],test_data[i][0],label='skitcat',color='r',marker='o')\n",
    "        ax[2].scatter(test_data[i][2],test_data[i][1],label='skitcat',color='g',marker='o')\n",
    "        ax[2].scatter(test_data[i][2],test_data[i][2],label='skitcat',color='b',marker='o')\n",
    "        ax[2].scatter(test_data[i][2],test_data[i][3],label='skitcat',color='m',marker='o')\n",
    "        ax[3].scatter(test_data[i][3],test_data[i][0],label='skitcat',color='r',marker='o')\n",
    "        ax[3].scatter(test_data[i][3],test_data[i][1],label='skitcat',color='g',marker='o')\n",
    "        ax[3].scatter(test_data[i][3],test_data[i][2],label='skitcat',color='b',marker='o')\n",
    "        ax[3].scatter(test_data[i][3],test_data[i][3],label='skitcat',color='m',marker='o')"
   ]
  },
  {
   "cell_type": "code",
   "execution_count": 27,
   "metadata": {
    "ExecuteTime": {
     "end_time": "2019-07-02T14:11:20.489588Z",
     "start_time": "2019-07-02T14:11:20.478616Z"
    }
   },
   "outputs": [],
   "source": [
    "'''\n",
    "距离公式\n",
    "'''\n",
    "#欧式距离\n",
    "def d_euc(test_data_1, train_data_1, l):\n",
    "    d = 0\n",
    "    for i in range(l):\n",
    "        d += pow((test_data_1[i] - train_data_1[i]), 2)\n",
    "    d = np.sqrt(d)\n",
    "    return d\n",
    "\n",
    "\n",
    "#曼哈顿距离\n",
    "def d_man(test_data_1, train_data_1, l):\n",
    "    d = 0\n",
    "    for i in range(l):\n",
    "        d += np.abs(test_data_1[i] - train_data_1[i])\n",
    "\n",
    "    return d\n"
   ]
  },
  {
   "cell_type": "code",
   "execution_count": 28,
   "metadata": {
    "ExecuteTime": {
     "end_time": "2019-07-02T14:11:20.549426Z",
     "start_time": "2019-07-02T14:11:20.526488Z"
    }
   },
   "outputs": [],
   "source": [
    "def KNN(k, test_data_each):\n",
    "    #存放距离\n",
    "    distances_1 = []\n",
    "    distances_2 = []\n",
    "    #每组数据 5 个参数，4个值，循环 4 次\n",
    "    l = len(test_data_each) - 1\n",
    "    #求去到每个训练数据的距离，存放到distances\n",
    "    for i in range(len(train_data)):\n",
    "        #曼哈顿距离，欧式距离\n",
    "        dist_1 = d_euc(test_data_each, train_data[i], l)\n",
    "        dist_2 = d_man(test_data_each,train_data[i],l)\n",
    "        distances_1.append((train_data[i], dist_1))\n",
    "        distances_2.append((train_data[i],dist_2))\n",
    "    #根据距离排序   \n",
    "    distances_1.sort(key=operator.itemgetter(1))\n",
    "    distances_2.sort(key=operator.itemgetter(1))\n",
    "    \n",
    "    neighbors_1 = []\n",
    "    neighbors_2 = []\n",
    "    for j in range(k):\n",
    "        #取 前 k 个 作为 要预测的结果，存放到\n",
    "        neighbors_1.append(distances_1[j][0])\n",
    "        neighbors_2.append(distances_2[j][0])\n",
    "    return neighbors_1,neighbors_2"
   ]
  },
  {
   "cell_type": "code",
   "execution_count": 29,
   "metadata": {
    "ExecuteTime": {
     "end_time": "2019-07-02T14:11:20.616267Z",
     "start_time": "2019-07-02T14:11:20.602286Z"
    }
   },
   "outputs": [],
   "source": [
    "'''\n",
    "分类决策规则---多数表决法\n",
    "'''\n",
    "def majority_voting(neighbors):\n",
    "    class_count = {}\n",
    "    for i in range(len(neighbors)):\n",
    "        #获取花的类别，索引值 -1\n",
    "        type = neighbors[i][-1]\n",
    "        #对类别开始计数\n",
    "        if type in class_count:\n",
    "            class_count[type] += 1\n",
    "        else:\n",
    "            class_count[type] = 1\n",
    "    #排序，选取计数最大的那个作为预测结果\n",
    "    sorted_class_count = sorted(class_count.items(), key=operator.itemgetter(1), reverse=True)\n",
    "    \n",
    "    return sorted_class_count[0][0]"
   ]
  },
  {
   "cell_type": "code",
   "execution_count": 30,
   "metadata": {
    "ExecuteTime": {
     "end_time": "2019-07-02T14:11:20.678082Z",
     "start_time": "2019-07-02T14:11:20.662126Z"
    }
   },
   "outputs": [],
   "source": [
    "'''\n",
    "求取预测的准确率\n",
    "'''\n",
    "def accuracy(predictions):\n",
    "    #计数\n",
    "    n=0\n",
    "    for i in range(len(test_data)):\n",
    "        #如果真实值=预测值   ，  ++\n",
    "        if test_data[i][-1] == predictions[i]:\n",
    "            n += 1\n",
    "    return (n/ float(len(test_data)))"
   ]
  },
  {
   "cell_type": "code",
   "execution_count": 31,
   "metadata": {
    "ExecuteTime": {
     "end_time": "2019-07-02T14:11:20.810729Z",
     "start_time": "2019-07-02T14:11:20.715980Z"
    }
   },
   "outputs": [
    {
     "name": "stdout",
     "output_type": "stream",
     "text": [
      "欧式距离预测结果= Iris-setosa  ||   曼哈顿距离预测结果Iris-setosa    ||  真实结果= Iris-setosa \n",
      "欧式距离预测结果= Iris-setosa  ||   曼哈顿距离预测结果Iris-setosa    ||  真实结果= Iris-setosa \n",
      "欧式距离预测结果= Iris-setosa  ||   曼哈顿距离预测结果Iris-setosa    ||  真实结果= Iris-setosa \n",
      "欧式距离预测结果= Iris-setosa  ||   曼哈顿距离预测结果Iris-setosa    ||  真实结果= Iris-setosa \n",
      "欧式距离预测结果= Iris-setosa  ||   曼哈顿距离预测结果Iris-setosa    ||  真实结果= Iris-setosa \n",
      "欧式距离预测结果= Iris-setosa  ||   曼哈顿距离预测结果Iris-setosa    ||  真实结果= Iris-setosa \n",
      "欧式距离预测结果= Iris-setosa  ||   曼哈顿距离预测结果Iris-setosa    ||  真实结果= Iris-setosa \n",
      "欧式距离预测结果= Iris-setosa  ||   曼哈顿距离预测结果Iris-setosa    ||  真实结果= Iris-setosa \n",
      "欧式距离预测结果= Iris-setosa  ||   曼哈顿距离预测结果Iris-setosa    ||  真实结果= Iris-setosa \n",
      "欧式距离预测结果= Iris-setosa  ||   曼哈顿距离预测结果Iris-setosa    ||  真实结果= Iris-setosa \n",
      "欧式距离预测结果= Iris-setosa  ||   曼哈顿距离预测结果Iris-setosa    ||  真实结果= Iris-setosa \n",
      "欧式距离预测结果= Iris-setosa  ||   曼哈顿距离预测结果Iris-setosa    ||  真实结果= Iris-setosa \n",
      "欧式距离预测结果= Iris-setosa  ||   曼哈顿距离预测结果Iris-setosa    ||  真实结果= Iris-setosa \n",
      "欧式距离预测结果= Iris-setosa  ||   曼哈顿距离预测结果Iris-setosa    ||  真实结果= Iris-setosa \n",
      "欧式距离预测结果= Iris-setosa  ||   曼哈顿距离预测结果Iris-setosa    ||  真实结果= Iris-setosa \n",
      "欧式距离预测结果= Iris-setosa  ||   曼哈顿距离预测结果Iris-setosa    ||  真实结果= Iris-setosa \n",
      "欧式距离预测结果= Iris-setosa  ||   曼哈顿距离预测结果Iris-setosa    ||  真实结果= Iris-setosa \n",
      "欧式距离预测结果= Iris-versicolor  ||   曼哈顿距离预测结果Iris-versicolor    ||  真实结果= Iris-versicolor \n",
      "欧式距离预测结果= Iris-versicolor  ||   曼哈顿距离预测结果Iris-versicolor    ||  真实结果= Iris-versicolor \n",
      "欧式距离预测结果= Iris-versicolor  ||   曼哈顿距离预测结果Iris-versicolor    ||  真实结果= Iris-versicolor \n",
      "欧式距离预测结果= Iris-versicolor  ||   曼哈顿距离预测结果Iris-versicolor    ||  真实结果= Iris-versicolor \n",
      "欧式距离预测结果= Iris-virginica  ||   曼哈顿距离预测结果Iris-versicolor    ||  真实结果= Iris-versicolor \n",
      "欧式距离预测结果= Iris-virginica  ||   曼哈顿距离预测结果Iris-virginica    ||  真实结果= Iris-versicolor \n",
      "欧式距离预测结果= Iris-virginica  ||   曼哈顿距离预测结果Iris-virginica    ||  真实结果= Iris-versicolor \n",
      "欧式距离预测结果= Iris-versicolor  ||   曼哈顿距离预测结果Iris-versicolor    ||  真实结果= Iris-versicolor \n",
      "欧式距离预测结果= Iris-versicolor  ||   曼哈顿距离预测结果Iris-versicolor    ||  真实结果= Iris-versicolor \n",
      "欧式距离预测结果= Iris-versicolor  ||   曼哈顿距离预测结果Iris-versicolor    ||  真实结果= Iris-versicolor \n",
      "欧式距离预测结果= Iris-versicolor  ||   曼哈顿距离预测结果Iris-versicolor    ||  真实结果= Iris-versicolor \n",
      "欧式距离预测结果= Iris-versicolor  ||   曼哈顿距离预测结果Iris-versicolor    ||  真实结果= Iris-versicolor \n",
      "欧式距离预测结果= Iris-versicolor  ||   曼哈顿距离预测结果Iris-versicolor    ||  真实结果= Iris-versicolor \n",
      "欧式距离预测结果= Iris-versicolor  ||   曼哈顿距离预测结果Iris-versicolor    ||  真实结果= Iris-versicolor \n",
      "欧式距离预测结果= Iris-versicolor  ||   曼哈顿距离预测结果Iris-versicolor    ||  真实结果= Iris-versicolor \n",
      "欧式距离预测结果= Iris-versicolor  ||   曼哈顿距离预测结果Iris-versicolor    ||  真实结果= Iris-versicolor \n",
      "欧式距离预测结果= Iris-virginica  ||   曼哈顿距离预测结果Iris-virginica    ||  真实结果= Iris-virginica \n",
      "欧式距离预测结果= Iris-virginica  ||   曼哈顿距离预测结果Iris-virginica    ||  真实结果= Iris-virginica \n",
      "欧式距离预测结果= Iris-virginica  ||   曼哈顿距离预测结果Iris-virginica    ||  真实结果= Iris-virginica \n",
      "欧式距离预测结果= Iris-virginica  ||   曼哈顿距离预测结果Iris-virginica    ||  真实结果= Iris-virginica \n",
      "欧式距离预测结果= Iris-virginica  ||   曼哈顿距离预测结果Iris-virginica    ||  真实结果= Iris-virginica \n",
      "欧式距离预测结果= Iris-virginica  ||   曼哈顿距离预测结果Iris-virginica    ||  真实结果= Iris-virginica \n",
      "欧式距离预测结果= Iris-virginica  ||   曼哈顿距离预测结果Iris-virginica    ||  真实结果= Iris-virginica \n",
      "欧式距离预测结果= Iris-virginica  ||   曼哈顿距离预测结果Iris-virginica    ||  真实结果= Iris-virginica \n",
      "欧式距离预测结果= Iris-virginica  ||   曼哈顿距离预测结果Iris-virginica    ||  真实结果= Iris-virginica \n",
      "欧式距离预测结果= Iris-virginica  ||   曼哈顿距离预测结果Iris-virginica    ||  真实结果= Iris-virginica \n",
      "欧式距离预测结果= Iris-virginica  ||   曼哈顿距离预测结果Iris-virginica    ||  真实结果= Iris-virginica \n",
      "欧式距离预测结果= Iris-virginica  ||   曼哈顿距离预测结果Iris-virginica    ||  真实结果= Iris-virginica \n",
      "欧式距离预测结果= Iris-virginica  ||   曼哈顿距离预测结果Iris-virginica    ||  真实结果= Iris-virginica \n",
      "欧式距离预测结果= Iris-virginica  ||   曼哈顿距离预测结果Iris-virginica    ||  真实结果= Iris-virginica \n",
      "欧式距离预测结果= Iris-virginica  ||   曼哈顿距离预测结果Iris-virginica    ||  真实结果= Iris-virginica \n",
      "欧式距离准确率:0.9375 \n",
      "曼哈顿准确率:0.9583333333333334 \n"
     ]
    }
   ],
   "source": [
    "'''\n",
    "主函数\n",
    "'''\n",
    "#预测结果\n",
    "predictions_ecu = []\n",
    "predictions_man = []\n",
    "#设置K值\n",
    "\n",
    "for i in range(len(test_data)):\n",
    "    neighbors_1,neighbors_2 = KNN(k, test_data[i])\n",
    "    #print(neighbors)\n",
    "    result_1 = majority_voting(neighbors_1)\n",
    "    result_2 = majority_voting(neighbors_2)\n",
    "    predictions_ecu.append(result_1)\n",
    "    predictions_man.append(result_2)\n",
    "    print(f'欧式距离预测结果= {result_1}  ||   曼哈顿距离预测结果{result_2}    ||  真实结果= {test_data[i][-1]} ')\n",
    "data_accuracy_1 = accuracy(predictions_ecu)\n",
    "data_accuracy_2 = accuracy(predictions_man)\n",
    "#查看预测准确率\n",
    "print(f'欧式距离准确率:{data_accuracy_1} ')\n",
    "print(f'曼哈顿准确率:{data_accuracy_2} ')"
   ]
  },
  {
   "cell_type": "code",
   "execution_count": null,
   "metadata": {
    "ExecuteTime": {
     "end_time": "2019-07-01T15:15:31.774574Z",
     "start_time": "2019-07-01T15:15:31.770110Z"
    }
   },
   "outputs": [],
   "source": []
  },
  {
   "cell_type": "code",
   "execution_count": null,
   "metadata": {},
   "outputs": [],
   "source": []
  }
 ],
 "metadata": {
  "kernelspec": {
   "display_name": "Python 3",
   "language": "python",
   "name": "python3"
  },
  "language_info": {
   "codemirror_mode": {
    "name": "ipython",
    "version": 3
   },
   "file_extension": ".py",
   "mimetype": "text/x-python",
   "name": "python",
   "nbconvert_exporter": "python",
   "pygments_lexer": "ipython3",
   "version": "3.7.1"
  },
  "toc": {
   "base_numbering": 1,
   "nav_menu": {},
   "number_sections": true,
   "sideBar": true,
   "skip_h1_title": false,
   "title_cell": "Table of Contents",
   "title_sidebar": "Contents",
   "toc_cell": false,
   "toc_position": {},
   "toc_section_display": true,
   "toc_window_display": false
  },
  "varInspector": {
   "cols": {
    "lenName": 16,
    "lenType": 16,
    "lenVar": 40
   },
   "kernels_config": {
    "python": {
     "delete_cmd_postfix": "",
     "delete_cmd_prefix": "del ",
     "library": "var_list.py",
     "varRefreshCmd": "print(var_dic_list())"
    },
    "r": {
     "delete_cmd_postfix": ") ",
     "delete_cmd_prefix": "rm(",
     "library": "var_list.r",
     "varRefreshCmd": "cat(var_dic_list()) "
    }
   },
   "types_to_exclude": [
    "module",
    "function",
    "builtin_function_or_method",
    "instance",
    "_Feature"
   ],
   "window_display": false
  }
 },
 "nbformat": 4,
 "nbformat_minor": 2
}
